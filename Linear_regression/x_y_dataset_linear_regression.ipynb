{
  "nbformat": 4,
  "nbformat_minor": 0,
  "metadata": {
    "colab": {
      "name": "x-y dataset linear regression.ipynb",
      "provenance": []
    },
    "kernelspec": {
      "name": "python3",
      "display_name": "Python 3"
    }
  },
  "cells": [
    {
      "cell_type": "code",
      "metadata": {
        "id": "6ZjqFnNTguQ_",
        "colab_type": "code",
        "colab": {}
      },
      "source": [
        "import numpy as np\n",
        "import pandas as pd\n",
        "import matplotlib.pyplot as plt\n"
      ],
      "execution_count": 0,
      "outputs": []
    },
    {
      "cell_type": "markdown",
      "metadata": {
        "id": "Uk1cgHCqjSTR",
        "colab_type": "text"
      },
      "source": [
        "Getting training data"
      ]
    },
    {
      "cell_type": "code",
      "metadata": {
        "id": "z3i4RnzVh4S-",
        "colab_type": "code",
        "outputId": "6b17efe1-f640-46a8-e30f-53636d1cb742",
        "colab": {
          "base_uri": "https://localhost:8080/",
          "height": 51
        }
      },
      "source": [
        "dfx=pd.read_csv('/content/linearX.csv')\n",
        "dfy=pd.read_csv('/content/linearY.csv')\n",
        "x=dfx.values\n",
        "y=dfy.values\n",
        "x=x.reshape((-1,))\n",
        "y=y.reshape((-1,))\n",
        "print(x.shape)\n",
        "print(y.shape)"
      ],
      "execution_count": 2,
      "outputs": [
        {
          "output_type": "stream",
          "text": [
            "(99,)\n",
            "(99,)\n"
          ],
          "name": "stdout"
        }
      ]
    },
    {
      "cell_type": "markdown",
      "metadata": {
        "id": "My7ncW10jX3U",
        "colab_type": "text"
      },
      "source": [
        "Visualising and Preprocessing"
      ]
    },
    {
      "cell_type": "code",
      "metadata": {
        "id": "W1uUzAt6jHhF",
        "colab_type": "code",
        "outputId": "132ef4e2-0b25-49c4-bc78-1cfc3ff14410",
        "colab": {
          "base_uri": "https://localhost:8080/",
          "height": 279
        }
      },
      "source": [
        "plt.scatter(x,y)\n",
        "X=(x-x.mean())/x.std()\n",
        "Y=y\n",
        "plt.xlabel('X')\n",
        "plt.ylabel('Y')\n",
        "plt.scatter(X,Y)\n",
        "plt.show()\n"
      ],
      "execution_count": 3,
      "outputs": [
        {
          "output_type": "display_data",
          "data": {
            "image/png": "[encoded data removed]",
            "text/plain": [
              "<Figure size 432x288 with 1 Axes>"
            ]
          },
          "metadata": {
            "tags": []
          }
        }
      ]
    },
    {
      "cell_type": "code",
      "metadata": {
        "id": "xXe-PKZVjp4w",
        "colab_type": "code",
        "outputId": "38ff6d76-906f-4214-f28e-0d8055a1e448",
        "colab": {
          "base_uri": "https://localhost:8080/",
          "height": 265
        }
      },
      "source": [
        "plt.scatter(X,Y)\n",
        "plt.show()"
      ],
      "execution_count": 4,
      "outputs": [
        {
          "output_type": "display_data",
          "data": {
            "image/png": "[encoded data removed]",
            "text/plain": [
              "<Figure size 432x288 with 1 Axes>"
            ]
          },
          "metadata": {
            "tags": []
          }
        }
      ]
    },
    {
      "cell_type": "markdown",
      "metadata": {
        "id": "oV3w5-VVkpTp",
        "colab_type": "text"
      },
      "source": [
        "Gradient Descent Algorithm"
      ]
    },
    {
      "cell_type": "markdown",
      "metadata": {
        "id": "_2JkebXAk0Vc",
        "colab_type": "text"
      },
      "source": [
        "We start with a random theta,repeat until converge and update theta according to the rule"
      ]
    },
    {
      "cell_type": "code",
      "metadata": {
        "id": "c8ooHnX4ktfe",
        "colab_type": "code",
        "colab": {}
      },
      "source": [
        "def hypothesis(x,theta):\n",
        "  return theta[0]+theta[1]*x\n",
        "\n"
      ],
      "execution_count": 0,
      "outputs": []
    },
    {
      "cell_type": "code",
      "metadata": {
        "id": "iqAnXLi0pk2l",
        "colab_type": "code",
        "colab": {}
      },
      "source": [
        "def error(X,Y,theta):\n",
        "  m=x.shape[0]  \n",
        "  error=0\n",
        "  for i in range(m):\n",
        "    hx=hypothesis(X[i],theta)\n",
        "    error+=(hx-Y[i])**2\n",
        "  return error\n"
      ],
      "execution_count": 0,
      "outputs": []
    },
    {
      "cell_type": "code",
      "metadata": {
        "id": "zKLEGL6Jpo4q",
        "colab_type": "code",
        "colab": {}
      },
      "source": [
        "def gradient(X,Y,theta):\n",
        "  grad =np.zeros((2,))\n",
        "  m=X.shape[0]\n",
        "  for i in range(m):\n",
        "    hx=hypothesis(X[i],theta)\n",
        "    grad[0]+=(hx-Y[i])\n",
        "    grad[1]+=(hx-Y[i])*X[i]\n",
        "  return grad\n"
      ],
      "execution_count": 0,
      "outputs": []
    },
    {
      "cell_type": "code",
      "metadata": {
        "id": "-Hm9Wq_Ips7y",
        "colab_type": "code",
        "colab": {}
      },
      "source": [
        " #The algorithm\n",
        "def gradientDescent(X,Y,learning_rate=0.001):\n",
        "   theta=np.array([-2.0,0.0])\n",
        "   itr=0\n",
        "   max_itr=100\n",
        "   error_list=[]\n",
        "   theta_list=[]\n",
        "   while(itr<=max_itr):\n",
        "     grad=gradient(X,Y,theta)\n",
        "     e=error(X,Y,theta)\n",
        "     error_list.append(e)\n",
        "     theta_list.append((theta[0],theta[1]))\n",
        "     theta[0] = theta[0] - learning_rate*grad[0]\n",
        "     theta[1] = theta[1] - learning_rate*grad[1]\n",
        "     itr+=1\n",
        "   return theta,error_list,theta_list\n"
      ],
      "execution_count": 0,
      "outputs": []
    },
    {
      "cell_type": "code",
      "metadata": {
        "id": "nDTsn1jemZ3n",
        "colab_type": "code",
        "colab": {}
      },
      "source": [
        "final_theta, error_list,theta_list = gradientDescent(X,Y)"
      ],
      "execution_count": 0,
      "outputs": []
    },
    {
      "cell_type": "code",
      "metadata": {
        "id": "zFTXLgsYmjHq",
        "colab_type": "code",
        "colab": {
          "base_uri": "https://localhost:8080/",
          "height": 265
        },
        "outputId": "547e1c6b-c5aa-43ed-df5d-15f84fdd088f"
      },
      "source": [
        "plt.plot(error_list)\n",
        "plt.show()"
      ],
      "execution_count": 26,
      "outputs": [
        {
          "output_type": "display_data",
          "data": {
            "image/png": "[encoded data removed]",
            "text/plain": [
              "<Figure size 432x288 with 1 Axes>"
            ]
          },
          "metadata": {
            "tags": []
          }
        }
      ]
    },
    {
      "cell_type": "code",
      "metadata": {
        "id": "xASOQXZYm_fe",
        "colab_type": "code",
        "colab": {
          "base_uri": "https://localhost:8080/",
          "height": 34
        },
        "outputId": "8055bb0b-0ab8-4455-bc02-90398b012cf6"
      },
      "source": [
        "print(final_theta)"
      ],
      "execution_count": 27,
      "outputs": [
        {
          "output_type": "stream",
          "text": [
            "[0.996554  0.0013579]\n"
          ],
          "name": "stdout"
        }
      ]
    },
    {
      "cell_type": "code",
      "metadata": {
        "id": "kVsiam4QnCzX",
        "colab_type": "code",
        "colab": {
          "base_uri": "https://localhost:8080/",
          "height": 51
        },
        "outputId": "44e46244-2501-468c-cb3e-47e88ce2f9b8"
      },
      "source": [
        "### Plot the line for testing data\n",
        "\n",
        "xtest = np.linspace(-2,6,10)\n",
        "print(xtest)\n"
      ],
      "execution_count": 28,
      "outputs": [
        {
          "output_type": "stream",
          "text": [
            "[-2.         -1.11111111 -0.22222222  0.66666667  1.55555556  2.44444444\n",
            "  3.33333333  4.22222222  5.11111111  6.        ]\n"
          ],
          "name": "stdout"
        }
      ]
    },
    {
      "cell_type": "code",
      "metadata": {
        "id": "Sn_ltFUjnGMc",
        "colab_type": "code",
        "colab": {
          "base_uri": "https://localhost:8080/",
          "height": 265
        },
        "outputId": "bc919153-0105-4f53-bb4c-7d78cd512bf8"
      },
      "source": [
        "plt.scatter(X,Y,label='Training Data')\n",
        "plt.plot(xtest,hypothesis(xtest,final_theta),color='orange',label=\"Prediction\")\n",
        "plt.legend()\n",
        "plt.show()"
      ],
      "execution_count": 29,
      "outputs": [
        {
          "output_type": "display_data",
          "data": {
            "image/png": "[encoded data removed]",
            "text/plain": [
              "<Figure size 432x288 with 1 Axes>"
            ]
          },
          "metadata": {
            "tags": []
          }
        }
      ]
    },
    {
      "cell_type": "code",
      "metadata": {
        "id": "WHw9Gnu0qXeD",
        "colab_type": "code",
        "colab": {}
      },
      "source": [
        ""
      ],
      "execution_count": 0,
      "outputs": []
    }
  ]
}