{
  "nbformat": 4,
  "nbformat_minor": 0,
  "metadata": {
    "colab": {
      "name": "pollution_level_prediction.ipynb",
      "provenance": []
    },
    "kernelspec": {
      "name": "python3",
      "display_name": "Python 3"
    }
  },
  "cells": [
    {
      "cell_type": "markdown",
      "metadata": {
        "id": "pxXCxVhd-OV-",
        "colab_type": "text"
      },
      "source": [
        "# Importing libraries"
      ]
    },
    {
      "cell_type": "code",
      "metadata": {
        "id": "lKWyWukw-Vq2",
        "colab_type": "code",
        "colab": {}
      },
      "source": [
        "import numpy as np\n",
        "import pandas as pd\n",
        "import matplotlib.pyplot as plt\n"
      ],
      "execution_count": 0,
      "outputs": []
    },
    {
      "cell_type": "markdown",
      "metadata": {
        "id": "f0U81M3UVFqU",
        "colab_type": "text"
      },
      "source": [
        "# Processing Data"
      ]
    },
    {
      "cell_type": "code",
      "metadata": {
        "id": "2X_KidkrSRQv",
        "colab_type": "code",
        "colab": {}
      },
      "source": [
        "df=pd.read_csv('/content/Train.csv')"
      ],
      "execution_count": 0,
      "outputs": []
    },
    {
      "cell_type": "code",
      "metadata": {
        "id": "oF-d4JuqbqsU",
        "colab_type": "code",
        "colab": {}
      },
      "source": [
        "dfx1=df['feature_1']\n",
        "dfx2=df['feature_2']\n",
        "dfx3=df['feature_3']\n",
        "dfx4=df['feature_4']\n",
        "dfx5=df['feature_5']\n",
        "dfy=df['target']\n"
      ],
      "execution_count": 0,
      "outputs": []
    },
    {
      "cell_type": "code",
      "metadata": {
        "id": "gMkiddqaruou",
        "colab_type": "code",
        "colab": {}
      },
      "source": [
        "x1=dfx1.values.reshape((-1,))\n",
        "x2=dfx2.values.reshape((-1,))\n",
        "x3=dfx3.values.reshape((-1,))\n",
        "x4=dfx4.values.reshape((-1,))\n",
        "x5=dfx5.values.reshape((-1,))\n",
        "y=dfy.values.reshape((-1,))"
      ],
      "execution_count": 0,
      "outputs": []
    },
    {
      "cell_type": "markdown",
      "metadata": {
        "id": "C4hupS4XWDJU",
        "colab_type": "text"
      },
      "source": [
        "# Gradient Descent Algorithm"
      ]
    },
    {
      "cell_type": "code",
      "metadata": {
        "id": "FAmUUsN_VzYb",
        "colab_type": "code",
        "colab": {}
      },
      "source": [
        "def hypothesis(x1,x2,x3,x4,x5,theta):\n",
        "  return theta[0]+theta[1]*x1+theta[2]*x2+theta[3]*x3+theta[4]*x4+theta[5]*x5"
      ],
      "execution_count": 0,
      "outputs": []
    },
    {
      "cell_type": "code",
      "metadata": {
        "id": "avcJwE4xWeGO",
        "colab_type": "code",
        "colab": {}
      },
      "source": [
        "def error(x1,x2,x3,x4,x5,y,theta):\n",
        "  error=0\n",
        "  for i in range(x1.shape[0]):\n",
        "    hx=hypothesis(x1[i],x2[i],x3[i],x4[i],x5[i],theta)\n",
        "    error+=(hx-y[i])**2 \n",
        "  return error    \n"
      ],
      "execution_count": 0,
      "outputs": []
    },
    {
      "cell_type": "code",
      "metadata": {
        "id": "GBT4NaTxXF88",
        "colab_type": "code",
        "colab": {}
      },
      "source": [
        "def gradient(x1,x2,x3,x4,x5,y,theta):\n",
        "  grad=np.zeros((6,))\n",
        "  for i in range(x1.shape[0]):\n",
        "    hx=hypothesis(x1[i],x2[i],x3[i],x4[i],x5[i],theta)\n",
        "    grad[0]+=hx-y[i]\n",
        "    grad[1]+=(hx-y[i])*x1[i]\n",
        "    grad[2]+=(hx-y[i])*x2[i]\n",
        "    grad[3]+=(hx-y[i])*x3[i]\n",
        "    grad[4]+=(hx-y[i])*x4[i]\n",
        "    grad[5]+=(hx-y[i])*x5[i]\n",
        "  return grad  "
      ],
      "execution_count": 0,
      "outputs": []
    },
    {
      "cell_type": "code",
      "metadata": {
        "id": "DYA5tAmGYYch",
        "colab_type": "code",
        "colab": {}
      },
      "source": [
        "def gradientDescent(x1,x2,x3,x4,x5,y,learning_rate=0.001):\n",
        "  theta=np.ones((6,),dtype=float)\n",
        "  max_itr=100\n",
        "  itr=0\n",
        "  error_list=[]\n",
        "  while(itr<=max_itr):\n",
        "    grad=gradient(x1,x2,x3,x4,x5,y,theta)\n",
        "    err=error(x1,x2,x3,x4,x5,y,theta)\n",
        "    error_list.append(err)\n",
        "    theta[0]-=learning_rate*grad[0]\n",
        "    theta[1]-=learning_rate*grad[1]\n",
        "    theta[2]-=learning_rate*grad[2]\n",
        "    theta[3]-=learning_rate*grad[3]\n",
        "    theta[4]-=learning_rate*grad[4]\n",
        "    theta[5]-=learning_rate*grad[5]\n",
        "    itr+=1\n",
        "  return theta,error_list  \n",
        " "
      ],
      "execution_count": 0,
      "outputs": []
    },
    {
      "cell_type": "code",
      "metadata": {
        "id": "hecjwIo5ZO1R",
        "colab_type": "code",
        "colab": {}
      },
      "source": [
        "final_theta,error_list=gradientDescent(x1,x2,x3,x4,x5,y)"
      ],
      "execution_count": 0,
      "outputs": []
    },
    {
      "cell_type": "code",
      "metadata": {
        "id": "Y90niV0ba89S",
        "colab_type": "code",
        "colab": {
          "base_uri": "https://localhost:8080/",
          "height": 293
        },
        "outputId": "8b7612be-d24e-4570-e49a-62f1e68d5f4f"
      },
      "source": [
        "plt.plot(error_list)"
      ],
      "execution_count": 21,
      "outputs": [
        {
          "output_type": "execute_result",
          "data": {
            "text/plain": [
              "[<matplotlib.lines.Line2D at 0x7f59ba481d30>]"
            ]
          },
          "metadata": {
            "tags": []
          },
          "execution_count": 21
        },
        {
          "output_type": "display_data",
          "data": {
            "image/png": "[encoded data removed]",
            "text/plain": [
              "<Figure size 432x288 with 1 Axes>"
            ]
          },
          "metadata": {
            "tags": []
          }
        }
      ]
    },
    {
      "cell_type": "code",
      "metadata": {
        "id": "tEroLcQVbRJV",
        "colab_type": "code",
        "colab": {}
      },
      "source": [
        ""
      ],
      "execution_count": 0,
      "outputs": []
    }
  ]
}