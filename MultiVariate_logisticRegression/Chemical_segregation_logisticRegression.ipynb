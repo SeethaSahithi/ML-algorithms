{
  "nbformat": 4,
  "nbformat_minor": 0,
  "metadata": {
    "colab": {
      "name": "Chemical_segregation_logisticRegression.ipynb",
      "provenance": [],
      "collapsed_sections": []
    },
    "kernelspec": {
      "name": "python3",
      "display_name": "Python 3"
    }
  },
  "cells": [
    {
      "cell_type": "markdown",
      "metadata": {
        "id": "Ktq2u0Uzza5g",
        "colab_type": "text"
      },
      "source": [
        "# Chemical segregation using logistic regression"
      ]
    },
    {
      "cell_type": "markdown",
      "metadata": {
        "id": "gdutPMmyz0_i",
        "colab_type": "text"
      },
      "source": [
        "Importing libraries\n",
        "\n"
      ]
    },
    {
      "cell_type": "code",
      "metadata": {
        "id": "fEVMvrKizf5B",
        "colab_type": "code",
        "colab": {}
      },
      "source": [
        "import numpy as np\n",
        "import pandas as pd\n",
        "import matplotlib.pyplot as plt\n",
        "%matplotlib inline\n",
        "plt.style.use('seaborn')"
      ],
      "execution_count": 0,
      "outputs": []
    },
    {
      "cell_type": "markdown",
      "metadata": {
        "id": "uAzyGvFW0Ri4",
        "colab_type": "text"
      },
      "source": [
        "Data Preparation"
      ]
    },
    {
      "cell_type": "code",
      "metadata": {
        "id": "XDqr4J8ZzmZh",
        "colab_type": "code",
        "colab": {}
      },
      "source": [
        "\n",
        "dfx=pd.read_csv('/content/Logistic_X_Train.csv')\n",
        "dfy=pd.read_csv('/content/Logistic_Y_Train.csv')\n"
      ],
      "execution_count": 0,
      "outputs": []
    },
    {
      "cell_type": "code",
      "metadata": {
        "id": "BlMaBcQVzS36",
        "colab_type": "code",
        "colab": {}
      },
      "source": [
        "X1=dfx[\"f1\"].values\n",
        "X2=dfx[\"f2\"].values\n",
        "X3=dfx[\"f3\"].values\n",
        "Y=dfy.values\n"
      ],
      "execution_count": 0,
      "outputs": []
    },
    {
      "cell_type": "code",
      "metadata": {
        "id": "kELbgzZl0HdI",
        "colab_type": "code",
        "colab": {}
      },
      "source": [
        "x1=X1.reshape((-1,))\n",
        "x2=X2.reshape((-1,))\n",
        "x3=X3.reshape((-1,))\n",
        "y=Y.reshape((-1,))"
      ],
      "execution_count": 0,
      "outputs": []
    },
    {
      "cell_type": "markdown",
      "metadata": {
        "id": "wnBpx09S2OUN",
        "colab_type": "text"
      },
      "source": [
        "\n",
        "# Logistic regression\n",
        "\n",
        "\n"
      ]
    },
    {
      "cell_type": "markdown",
      "metadata": {
        "id": "lgxbY3nX2ZoH",
        "colab_type": "text"
      },
      "source": [
        "Hypothesis"
      ]
    },
    {
      "cell_type": "code",
      "metadata": {
        "id": "s1wMAOlK2RyM",
        "colab_type": "code",
        "colab": {}
      },
      "source": [
        "def hypothesis(x1,x2,x3,theta):\n",
        "  hx=theta[0]+theta[1]*x1+theta[2]*x2+theta[3]*x3;\n",
        "  return sigmoid(hx)"
      ],
      "execution_count": 0,
      "outputs": []
    },
    {
      "cell_type": "markdown",
      "metadata": {
        "id": "wHoBM2hcA8qN",
        "colab_type": "text"
      },
      "source": [
        "Sigmoid function"
      ]
    },
    {
      "cell_type": "code",
      "metadata": {
        "id": "-XWbNVkyA7Ac",
        "colab_type": "code",
        "colab": {}
      },
      "source": [
        "def sigmoid(h):\n",
        "  return 1.0/(1.0+np.exp(-1.0*h))"
      ],
      "execution_count": 0,
      "outputs": []
    },
    {
      "cell_type": "markdown",
      "metadata": {
        "id": "11ulfxPZBNaF",
        "colab_type": "text"
      },
      "source": [
        "Error function"
      ]
    },
    {
      "cell_type": "code",
      "metadata": {
        "id": "GunKmP7yBLs2",
        "colab_type": "code",
        "colab": {}
      },
      "source": [
        "def error(x1,x2,x3,y,theta):\n",
        "  e=0\n",
        "  for i in range(x1.shape[0]):\n",
        "    hx=hypothesis(x1[i],x2[i],x3[i],theta)\n",
        "    e+=y[i]*np.log2(hx)+(1-y[i])*np.log2(1-hx)\n",
        "  return e  "
      ],
      "execution_count": 0,
      "outputs": []
    },
    {
      "cell_type": "markdown",
      "metadata": {
        "id": "LdVriZkaB6uB",
        "colab_type": "text"
      },
      "source": [
        "Finding Gradient"
      ]
    },
    {
      "cell_type": "code",
      "metadata": {
        "id": "tKoSjNrlB4Zm",
        "colab_type": "code",
        "colab": {}
      },
      "source": [
        "def get_grad(x1,x2,x3,y,theta):\n",
        "  grad =np.zeros((4,))\n",
        "  for i in range(x1.shape[0]):\n",
        "    hx=hypothesis(x1[i],x2[i],x3[i],theta)\n",
        "    grad[0]+=(y[i]-hx)\n",
        "    grad[1]+=(y[i]-hx)*x1[i]\n",
        "    grad[2]+=(y[i]-hx)*x2[i]\n",
        "    grad[3]+=(y[i]-hx)*x3[i]\n",
        "  return grad  "
      ],
      "execution_count": 0,
      "outputs": []
    },
    {
      "cell_type": "markdown",
      "metadata": {
        "id": "-jN3sjrTC98Y",
        "colab_type": "text"
      },
      "source": [
        "Gradient descent(actually ascent)"
      ]
    },
    {
      "cell_type": "code",
      "metadata": {
        "id": "W6xMVdo5C9LD",
        "colab_type": "code",
        "colab": {}
      },
      "source": [
        "def gradient_ascent(x1,x2,x3,y,learning_rate=0.001):\n",
        "  theta=[0.0,0.0,0.0,0.0]\n",
        "  err_list=[]\n",
        "  itr=0\n",
        "  while itr<1000:\n",
        "    grad=get_grad(x1,x2,x3,y,theta)\n",
        "    hx=hypothesis(x1,x2,x3,theta)\n",
        "    e=error(x1,x2,x3,y,theta)\n",
        "    err_list.append(e)\n",
        "    theta[0] += learning_rate*grad[0]\n",
        "    theta[1] += learning_rate*grad[1]\n",
        "    theta[2] += learning_rate*grad[2]\n",
        "    theta[3] += learning_rate*grad[3]   \n",
        "    itr +=1\n",
        "  return theta,err_list   \n"
      ],
      "execution_count": 0,
      "outputs": []
    },
    {
      "cell_type": "code",
      "metadata": {
        "id": "MtLDyXoPFqc7",
        "colab_type": "code",
        "colab": {
          "base_uri": "https://localhost:8080/",
          "height": 286
        },
        "outputId": "52652884-0b22-46ad-e1aa-a955b42fd3ef"
      },
      "source": [
        "final_theta,error_list = gradient_ascent(x1,x2,x3,y)\n",
        "print(final_theta)\n",
        "plt.plot(error_list)\n",
        "plt.show()"
      ],
      "execution_count": 15,
      "outputs": [
        {
          "output_type": "stream",
          "text": [
            "[-4.882785250498418, -4.407238476242473, 3.5772025763307314, -2.375702893105707]\n"
          ],
          "name": "stdout"
        },
        {
          "output_type": "display_data",
          "data": {
            "image/png": "[encoded data removed]",
            "text/plain": [
              "<Figure size 432x288 with 1 Axes>"
            ]
          },
          "metadata": {
            "tags": [],
            "needs_background": "light"
          }
        }
      ]
    },
    {
      "cell_type": "markdown",
      "metadata": {
        "id": "ieJBsoa22cPr",
        "colab_type": "text"
      },
      "source": [
        "*Prediction"
      ]
    },
    {
      "cell_type": "code",
      "metadata": {
        "id": "-KwsNTUiGOzN",
        "colab_type": "code",
        "colab": {}
      },
      "source": [
        "def predict(x1,x2,x3,theta):\n",
        "  test_Y=[]\n",
        "  for i in range(x1.shape[0]):\n",
        "    hx=hypothesis(x1[i],x2[i],x3[i],theta)\n",
        "    l=-1\n",
        "    if hx >= 0.5:\n",
        "      l=1\n",
        "    elif hx <0.5:\n",
        "      l=0\n",
        "    test_Y.append(l)\n",
        "  return test_Y      "
      ],
      "execution_count": 0,
      "outputs": []
    },
    {
      "cell_type": "code",
      "metadata": {
        "id": "YudRpmwY31xp",
        "colab_type": "code",
        "outputId": "3355c7cb-edd5-486b-c31f-a68e1488151c",
        "colab": {
          "base_uri": "https://localhost:8080/",
          "height": 54
        }
      },
      "source": [
        "test_data=pd.read_csv(\"/content/Logistic_X_Test.csv\")\n",
        "x11=test_data[\"f1\"].values\n",
        "x22=test_data[\"f2\"].values\n",
        "x33=test_data[\"f3\"].values\n",
        "X11=x11.reshape((-1,))\n",
        "X22=x22.reshape((-1,))\n",
        "X33=x33.reshape((-1,))\n",
        "prediction=predict(X11,X22,X33,final_theta)\n",
        "print(prediction)\n"
      ],
      "execution_count": 18,
      "outputs": [
        {
          "output_type": "stream",
          "text": [
            "[1, 1, 0, 1, 1, 1, 0, 1, 0, 0, 0, 1, 1, 1, 1, 0, 1, 0, 1, 0, 1, 0, 1, 0, 1, 1, 0, 0, 0, 1, 1, 1, 1, 0, 0, 0, 1, 0, 0, 0, 1, 0, 0, 0, 0, 1, 0, 0, 0, 1, 1, 1, 1, 1, 0, 0, 0, 1, 0, 0, 0, 1, 1, 0, 1, 1, 0, 0, 0, 0, 0, 1, 0, 1, 1, 1, 0, 1, 1, 0, 0, 0, 1, 1, 1, 0, 1, 1, 1, 0, 0, 1, 1, 0, 0, 1, 1, 1, 1, 0, 1, 0, 1, 1, 0, 1, 0, 0, 0, 0, 0, 1, 0, 0, 0, 1, 0, 0, 0, 0, 0, 1, 0, 1, 0, 0, 0, 1, 1, 0, 1, 1, 1, 0, 0, 0, 0, 0, 1, 1, 1, 1, 0, 1, 0, 0, 1, 1, 1, 0, 1, 1, 0, 1, 0, 1, 0, 0, 0, 0, 0, 0, 0, 0, 1, 0, 0, 1, 1, 1, 1, 1, 1, 0, 1, 1, 1, 0, 1, 0, 0, 0, 1, 0, 0, 1, 1, 1, 1, 1, 0, 0, 1, 0, 1, 0, 0, 0, 1, 1, 1, 1, 0, 0, 0, 1, 0, 0, 0, 0, 0, 0, 0, 0, 1, 1, 1, 0, 1, 0, 0, 1, 1, 1, 1, 0, 1, 1, 0, 0, 1, 0, 0, 1, 0, 1, 0, 0, 1, 1, 1, 0, 0, 0, 0, 0, 0, 1, 1, 1, 0, 1, 1, 0, 1, 0, 1, 0, 0, 1, 1, 1, 0, 0, 1, 1, 1, 0, 1, 1, 1, 1, 1, 0, 1, 0, 0, 0, 0, 0, 1, 1, 0, 0, 0, 0, 0, 1, 0, 0, 1, 1, 0, 1, 0, 1, 0, 1, 0, 1, 1, 0, 0, 1, 0, 1, 0, 1, 1, 0, 0, 0, 0, 1, 0, 0, 0, 1, 1, 1, 1, 1, 0, 1, 1, 0, 0, 0, 1, 0, 1, 1, 0, 0, 1, 1, 1, 0, 0, 0, 1, 1, 1, 0, 1, 0, 1, 1, 1, 0, 1, 0, 1, 0, 1, 1, 0, 1, 1, 0, 1, 1, 1, 0, 1, 1, 0, 1, 0, 0, 1, 1, 1, 1, 1, 1, 0, 1, 0, 0, 0, 1, 1, 1, 1, 1, 1, 0, 1, 1, 0, 1, 0, 1, 0, 0, 0, 0, 0, 1, 0, 0, 1, 0, 1, 1, 0, 0, 0, 1, 1, 1, 0, 1, 0, 1, 0, 1, 1, 0, 1, 1, 1, 0, 0, 0, 1, 1, 0, 1, 1, 0, 1, 1, 1, 0, 0, 0, 1, 1, 1, 0, 1, 0, 0, 0, 1, 0, 0, 0, 0, 1, 1, 0, 1, 0, 1, 1, 0, 0, 1, 1, 1, 1, 0, 1, 1, 0, 1, 1, 1, 1, 1, 1, 1, 1, 0, 1, 0, 1, 0, 0, 1, 0, 1, 0, 1, 0, 0, 0, 0, 0, 0, 0, 1, 1, 1, 1, 1, 0, 0, 0, 0, 1, 0, 1, 0, 1, 1, 0, 0, 0, 0, 1, 0, 0, 0, 0, 1, 0, 1, 0, 1, 1, 0, 1, 1, 1, 1, 1, 1, 0, 0, 0, 0, 1, 0, 0, 0, 1, 1, 1, 1, 1, 0, 0, 0, 1, 1, 0, 0, 0, 1, 0, 0, 1, 1, 0, 1, 0, 0, 1, 0, 1, 0, 1, 0, 0, 0, 1, 0, 1, 1, 0, 0, 0, 1, 0, 0, 0, 1, 0, 1, 0, 0, 0, 1, 1, 1, 0, 0, 0, 0, 1, 0, 1, 0, 1, 1, 0, 0, 1, 0, 1, 1, 0, 1, 1, 0, 1, 1, 0, 1, 1, 1, 1, 1, 1, 0, 0, 0, 1, 0, 0, 1, 1, 0, 1, 1, 0, 0, 1, 1, 1, 0, 1, 1, 0, 0, 1, 0, 1, 0, 0, 1, 0, 1, 1, 0, 1, 1, 0, 0, 1, 0, 1, 1, 1, 0, 0, 0, 1, 0, 0, 1, 1, 0, 1, 1, 1, 1, 0, 0, 1, 1, 1, 0, 0, 1, 0, 0, 1, 1, 1, 0, 1, 1, 1, 0, 1, 0, 0, 1, 0, 1, 0, 1, 1, 0, 1, 1, 0, 1, 1, 1, 1, 1, 0, 0, 0, 1, 1, 0, 1, 1, 1, 1, 1, 0, 1, 1, 1, 0, 0, 1, 1, 1, 1, 0, 1, 0, 1, 1, 0, 1, 1, 0, 1, 1, 1, 0, 1, 1, 1, 0, 0, 1, 1, 0, 0, 1, 0, 1, 1, 0, 0, 0, 0, 0, 0, 1, 1, 0, 0, 0, 0, 1, 0, 0, 1, 0, 0, 0, 1, 1, 1, 0, 1, 1, 1, 1, 1, 0, 1, 1, 0, 1, 1, 1, 1, 0, 1, 0, 0, 1, 1, 0, 0, 0, 0, 1, 1, 1, 0, 0, 0, 0, 1, 0, 0, 0, 0, 1, 1, 0, 0, 1, 1, 1, 0, 1, 0, 0, 0, 1, 0, 0, 1, 0, 0, 0, 0, 1, 0, 0, 0, 1, 0, 0, 1, 1, 1, 0, 0, 0, 0, 1, 1, 0, 0, 0, 0, 1, 0, 0, 0, 1, 1, 1, 1, 1, 1, 1, 1, 0, 1, 0, 0, 0, 0, 1, 0, 0, 0, 1, 1, 1, 0, 1, 1, 1, 1, 0, 1, 0, 1, 1, 0, 1, 0, 1, 1, 1, 0, 1, 1, 0, 0, 0, 1, 1, 0, 1, 1, 0, 1, 0, 0, 1, 0, 1, 1, 1, 0, 0, 1, 1, 1, 0, 0, 0, 1, 0, 1, 0, 0, 0, 0, 1, 1, 0, 0, 1, 0, 0, 1, 1, 1, 0, 1, 1, 1, 0, 0, 0, 1, 0, 0, 0, 0, 0, 0, 0, 1, 1, 1, 0, 0, 1, 0, 1, 0, 0, 1, 1, 1, 1, 0, 1, 0, 1, 1, 0, 1, 0, 0, 0, 1, 0, 0, 1, 0, 1, 1, 0, 1, 1, 0, 1, 1, 0, 0, 0, 1, 1, 0, 0, 1, 1, 0]\n"
          ],
          "name": "stdout"
        }
      ]
    }
  ]
}