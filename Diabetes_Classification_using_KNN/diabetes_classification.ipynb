{
  "nbformat": 4,
  "nbformat_minor": 0,
  "metadata": {
    "colab": {
      "name": "diabetes_classification.ipynb",
      "provenance": []
    },
    "kernelspec": {
      "name": "python3",
      "display_name": "Python 3"
    }
  },
  "cells": [
    {
      "cell_type": "markdown",
      "metadata": {
        "id": "-fdZvEedbFR8",
        "colab_type": "text"
      },
      "source": [
        "#Classification of patients into diabetic and non diabetic using KNN Algorithm."
      ]
    },
    {
      "cell_type": "markdown",
      "metadata": {
        "id": "koFzFaMmbfaz",
        "colab_type": "text"
      },
      "source": [
        "###Importing Libraries and preparation of Data"
      ]
    },
    {
      "cell_type": "code",
      "metadata": {
        "id": "mraoKtAItN3f",
        "colab_type": "code",
        "colab": {}
      },
      "source": [
        "import numpy as np\n",
        "import pandas as pd\n",
        "import matplotlib.pyplot as plt\n",
        "from scipy import stats"
      ],
      "execution_count": 0,
      "outputs": []
    },
    {
      "cell_type": "code",
      "metadata": {
        "id": "jXPcMHCvcNkA",
        "colab_type": "code",
        "colab": {}
      },
      "source": [
        "dfx=pd.read_csv('/content/Diabetes_XTrain.csv')\n",
        "dfy=pd.read_csv('/content/Diabetes_YTrain.csv')"
      ],
      "execution_count": 0,
      "outputs": []
    },
    {
      "cell_type": "code",
      "metadata": {
        "id": "hTejwSbEcYsJ",
        "colab_type": "code",
        "colab": {
          "base_uri": "https://localhost:8080/",
          "height": 34
        },
        "outputId": "d0f61952-c21d-45e7-bfc1-a8b25172cb88"
      },
      "source": [
        "x=dfx.values\n",
        "y=dfy.values.reshape((-1,))\n",
        "print(x.shape,y.shape)"
      ],
      "execution_count": 56,
      "outputs": [
        {
          "output_type": "stream",
          "text": [
            "(576, 8) (576,)\n"
          ],
          "name": "stdout"
        }
      ]
    },
    {
      "cell_type": "markdown",
      "metadata": {
        "id": "OjBAlVnKdk0Z",
        "colab_type": "text"
      },
      "source": [
        "###KNN Algorithm"
      ]
    },
    {
      "cell_type": "code",
      "metadata": {
        "id": "aIgSvg-acjsw",
        "colab_type": "code",
        "colab": {}
      },
      "source": [
        "def distance(x,y):\n",
        "  return np.sqrt(sum((x-y)**2))"
      ],
      "execution_count": 0,
      "outputs": []
    },
    {
      "cell_type": "code",
      "metadata": {
        "id": "KejKejVpcwk3",
        "colab_type": "code",
        "colab": {}
      },
      "source": [
        "def KNN(x,y,test,k=5):\n",
        "  d_list=[]\n",
        "  for i in range(x.shape[0]):\n",
        "    d=distance(x[i],test)\n",
        "    d_list.append((d,y[i]))\n",
        "  d_list=sorted(d_list)\n",
        "  d_list=d_list[:k] \n",
        "  d_list=np.array(d_list)\n",
        "  new_vals=np.unique(d_list[:,1],return_counts=True)\n",
        "  index=new_vals[1].argmax()\n",
        "  pred=new_vals[0][index]\n",
        "  return pred\n",
        "\n",
        "\n"
      ],
      "execution_count": 0,
      "outputs": []
    },
    {
      "cell_type": "markdown",
      "metadata": {
        "id": "SGFnKUcPdx4J",
        "colab_type": "text"
      },
      "source": [
        "###Prediction"
      ]
    },
    {
      "cell_type": "code",
      "metadata": {
        "id": "LfA8y08ddfkj",
        "colab_type": "code",
        "colab": {
          "base_uri": "https://localhost:8080/",
          "height": 54
        },
        "outputId": "b9ac73fd-43d1-4dc1-a9cb-f1083a06af97"
      },
      "source": [
        "df_test=pd.read_csv('/content/Diabetes_Xtest.csv')\n",
        "test=df_test.values\n",
        "pred_list=[]\n",
        "for i in range(test.shape[0]):\n",
        "  preds=KNN(x,y,test[i],k=5)\n",
        "  pred_list.append(preds)\n",
        "print(pred_list) \n",
        "#print(pred_list.shape)\n",
        "dia=0\n",
        "non_dia=0\n",
        "for i in pred_list:\n",
        "  if i==0:\n",
        "    non_dia+=1\n",
        "  else:\n",
        "    dia+=1   \n",
        "#print(dia)    \n"
      ],
      "execution_count": 74,
      "outputs": [
        {
          "output_type": "stream",
          "text": [
            "[1.0, 0.0, 0.0, 0.0, 0.0, 1.0, 1.0, 1.0, 0.0, 1.0, 1.0, 0.0, 1.0, 0.0, 0.0, 0.0, 0.0, 1.0, 1.0, 1.0, 0.0, 0.0, 0.0, 0.0, 0.0, 0.0, 1.0, 0.0, 0.0, 0.0, 0.0, 0.0, 1.0, 0.0, 0.0, 0.0, 1.0, 1.0, 1.0, 0.0, 1.0, 0.0, 0.0, 0.0, 1.0, 0.0, 0.0, 1.0, 0.0, 1.0, 0.0, 1.0, 0.0, 0.0, 1.0, 1.0, 1.0, 0.0, 0.0, 1.0, 0.0, 1.0, 0.0, 0.0, 1.0, 0.0, 0.0, 0.0, 0.0, 0.0, 0.0, 0.0, 0.0, 0.0, 0.0, 0.0, 0.0, 0.0, 0.0, 0.0, 0.0, 1.0, 0.0, 0.0, 0.0, 0.0, 1.0, 0.0, 0.0, 0.0, 1.0, 1.0, 0.0, 0.0, 1.0, 1.0, 0.0, 0.0, 0.0, 0.0, 1.0, 1.0, 0.0, 0.0, 0.0, 0.0, 1.0, 0.0, 0.0, 0.0, 1.0, 0.0, 1.0, 0.0, 0.0, 0.0, 0.0, 1.0, 0.0, 0.0, 0.0, 0.0, 0.0, 0.0, 1.0, 1.0, 1.0, 0.0, 1.0, 0.0, 0.0, 0.0, 0.0, 1.0, 0.0, 0.0, 0.0, 1.0, 1.0, 0.0, 0.0, 1.0, 1.0, 1.0, 1.0, 0.0, 0.0, 0.0, 1.0, 1.0, 0.0, 0.0, 1.0, 0.0, 0.0, 1.0, 0.0, 0.0, 0.0, 1.0, 1.0, 0.0, 0.0, 1.0, 0.0, 0.0, 0.0, 0.0, 0.0, 0.0, 0.0, 0.0, 0.0, 0.0, 0.0, 0.0, 0.0, 0.0, 1.0, 1.0, 0.0, 0.0, 0.0, 1.0, 0.0, 1.0, 0.0, 1.0, 0.0, 1.0, 1.0, 0.0]\n"
          ],
          "name": "stdout"
        }
      ]
    },
    {
      "cell_type": "code",
      "metadata": {
        "id": "8XcszifGeNWA",
        "colab_type": "code",
        "colab": {
          "base_uri": "https://localhost:8080/",
          "height": 265
        },
        "outputId": "b90d256b-c045-4f05-8ecc-62eea16c62b4"
      },
      "source": [
        "plt.bar([5],[dia],label=\"diabetic\",color='r')\n",
        "plt.bar([7],[non_dia],label=\"non diabetic\",color='g')\n",
        "plt.legend()\n",
        "plt.show()"
      ],
      "execution_count": 69,
      "outputs": [
        {
          "output_type": "display_data",
          "data": {
            "image/png": "[encoded data removed]",
            "text/plain": [
              "<Figure size 432x288 with 1 Axes>"
            ]
          },
          "metadata": {
            "tags": [],
            "needs_background": "light"
          }
        }
      ]
    },
    {
      "cell_type": "code",
      "metadata": {
        "id": "PEcK81LpuzA2",
        "colab_type": "code",
        "colab": {}
      },
      "source": [
        ""
      ],
      "execution_count": 0,
      "outputs": []
    }
  ]
}