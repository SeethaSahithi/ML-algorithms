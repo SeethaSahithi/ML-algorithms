{
  "nbformat": 4,
  "nbformat_minor": 0,
  "metadata": {
    "colab": {
      "name": "Smart_watch.ipynb",
      "provenance": []
    },
    "kernelspec": {
      "name": "python3",
      "display_name": "Python 3"
    }
  },
  "cells": [
    {
      "cell_type": "markdown",
      "metadata": {
        "id": "RzuHWQzs1Gvs",
        "colab_type": "text"
      },
      "source": [
        "#Importing Libraries"
      ]
    },
    {
      "cell_type": "code",
      "metadata": {
        "id": "DzhUVaWS1M5Y",
        "colab_type": "code",
        "colab": {}
      },
      "source": [
        "import numpy as np\n",
        "import pandas as pd\n",
        "import matplotlib.pyplot as plt"
      ],
      "execution_count": 0,
      "outputs": []
    },
    {
      "cell_type": "markdown",
      "metadata": {
        "id": "u2lXh6Pg1Q5z",
        "colab_type": "text"
      },
      "source": [
        "# Getting the training data"
      ]
    },
    {
      "cell_type": "code",
      "metadata": {
        "id": "olQc8Wov1PVp",
        "colab_type": "code",
        "outputId": "53ab51a8-7f49-4b9d-df22-475cf0f974f6",
        "colab": {
          "base_uri": "https://localhost:8080/",
          "height": 68
        }
      },
      "source": [
        "dfx=pd.read_csv('/content/Linear_X_Train.csv')\n",
        "dfy=pd.read_csv('/content/Linear_Y_Train.csv')\n",
        "dftest=pd.read_csv('/content/Linear_X_Test.csv')\n",
        "x=dfx.values\n",
        "y=dfy.values\n",
        "dftest=dftest.values\n",
        "x=x.reshape((-1,))\n",
        "y=y.reshape((-1,))\n",
        "test_data_array=dftest.reshape((-1,))\n",
        "print(x.shape)\n",
        "print(y.shape)\n",
        "print(test_data_array.shape)"
      ],
      "execution_count": 24,
      "outputs": [
        {
          "output_type": "stream",
          "text": [
            "(3750,)\n",
            "(3750,)\n",
            "(1250,)\n"
          ],
          "name": "stdout"
        }
      ]
    },
    {
      "cell_type": "markdown",
      "metadata": {
        "id": "CvLwB_ip9-IL",
        "colab_type": "text"
      },
      "source": [
        "# Visualising and Preprocessing"
      ]
    },
    {
      "cell_type": "code",
      "metadata": {
        "id": "uxLiw6Bo9z7j",
        "colab_type": "code",
        "colab": {
          "base_uri": "https://localhost:8080/",
          "height": 265
        },
        "outputId": "72413641-4b6d-4447-aeb2-2bfe98103446"
      },
      "source": [
        "plt.scatter(x,y)\n",
        "X = (x-x.mean())/x.std()\n",
        "Y = y\n",
        "plt.scatter(X,Y)\n",
        "plt.show()"
      ],
      "execution_count": 25,
      "outputs": [
        {
          "output_type": "display_data",
          "data": {
            "image/png": "[encoded data removed]",
            "text/plain": [
              "<Figure size 432x288 with 1 Axes>"
            ]
          },
          "metadata": {
            "tags": []
          }
        }
      ]
    },
    {
      "cell_type": "code",
      "metadata": {
        "id": "IJsfj9AJ-Kuc",
        "colab_type": "code",
        "colab": {
          "base_uri": "https://localhost:8080/",
          "height": 265
        },
        "outputId": "ee5f6e2d-f079-4d72-ac5c-014c7b124c3f"
      },
      "source": [
        "plt.scatter(X,Y)\n",
        "plt.show()"
      ],
      "execution_count": 26,
      "outputs": [
        {
          "output_type": "display_data",
          "data": {
            "image/png": "[encoded data removed]",
            "text/plain": [
              "<Figure size 432x288 with 1 Axes>"
            ]
          },
          "metadata": {
            "tags": []
          }
        }
      ]
    },
    {
      "cell_type": "markdown",
      "metadata": {
        "id": "BciA14dp-VqF",
        "colab_type": "text"
      },
      "source": [
        "# Gradient Descent Algorithm"
      ]
    },
    {
      "cell_type": "code",
      "metadata": {
        "id": "NbSon7_c-QH7",
        "colab_type": "code",
        "colab": {}
      },
      "source": [
        "def hypothesis(x,theta):\n",
        "    return theta[0] + theta[1]*x"
      ],
      "execution_count": 0,
      "outputs": []
    },
    {
      "cell_type": "code",
      "metadata": {
        "id": "k-XEsOyr-d_i",
        "colab_type": "code",
        "colab": {}
      },
      "source": [
        "def error(X,Y,theta):\n",
        "    \n",
        "    m = X.shape[0]\n",
        "    error = 0\n",
        "    \n",
        "    for i in range(m):\n",
        "        hx = hypothesis(X[i],theta)\n",
        "        error += (hx-Y[i])**2\n",
        "        \n",
        "    return error\n"
      ],
      "execution_count": 0,
      "outputs": []
    },
    {
      "cell_type": "code",
      "metadata": {
        "id": "dRSCCb0e-gYY",
        "colab_type": "code",
        "colab": {}
      },
      "source": [
        "def gradient(X,Y,theta):\n",
        "    \n",
        "    grad = np.zeros((2,))\n",
        "    m = X.shape[0]\n",
        "\n",
        "    for i in range(m):\n",
        "        hx = hypothesis(X[i],theta)\n",
        "        grad[0] +=  (hx-Y[i])\n",
        "        grad[1] += (hx-Y[i])*X[i]\n",
        "        \n",
        "    return grad"
      ],
      "execution_count": 0,
      "outputs": []
    },
    {
      "cell_type": "code",
      "metadata": {
        "id": "MlDX7-zI-jXR",
        "colab_type": "code",
        "colab": {}
      },
      "source": [
        "#Algorithm\n",
        "def gradientDescent(X,Y,learning_rate=0.00001):\n",
        "    \n",
        "    theta = np.array([-300.0,0.0])\n",
        "    \n",
        "    itr = 0\n",
        "    max_itr = 300\n",
        "    \n",
        "    error_list = []\n",
        "    theta_list = []\n",
        "    \n",
        "    while(itr<=max_itr):\n",
        "        grad = gradient(X,Y,theta)\n",
        "        e = error(X,Y,theta)\n",
        "        error_list.append(e)\n",
        "        \n",
        "        theta_list.append((theta[0],theta[1]))\n",
        "        theta[0] = theta[0] - learning_rate*grad[0]\n",
        "        theta[1] = theta[1] - learning_rate*grad[1]\n",
        "        \n",
        "        \n",
        "        itr += 1\n",
        "        \n",
        "    \n",
        "    return theta,error_list,theta_list"
      ],
      "execution_count": 0,
      "outputs": []
    },
    {
      "cell_type": "code",
      "metadata": {
        "id": "KKDPLX5--mPq",
        "colab_type": "code",
        "colab": {}
      },
      "source": [
        "final_theta, error_list,theta_list = gradientDescent(X,Y)"
      ],
      "execution_count": 0,
      "outputs": []
    },
    {
      "cell_type": "code",
      "metadata": {
        "id": "T4PIsA8r-o1L",
        "colab_type": "code",
        "colab": {
          "base_uri": "https://localhost:8080/",
          "height": 276
        },
        "outputId": "eca52b78-1044-4488-b404-53dccbdec1c0"
      },
      "source": [
        "plt.plot(error_list)\n",
        "plt.show()"
      ],
      "execution_count": 43,
      "outputs": [
        {
          "output_type": "display_data",
          "data": {
            "image/png": "[encoded data removed]",
            "text/plain": [
              "<Figure size 432x288 with 1 Axes>"
            ]
          },
          "metadata": {
            "tags": []
          }
        }
      ]
    },
    {
      "cell_type": "code",
      "metadata": {
        "id": "c9qglUbV-rFA",
        "colab_type": "code",
        "colab": {
          "base_uri": "https://localhost:8080/",
          "height": 34
        },
        "outputId": "34c47419-6dfb-4c21-a8bc-36ad87f66b3d"
      },
      "source": [
        "print(final_theta)"
      ],
      "execution_count": 44,
      "outputs": [
        {
          "output_type": "stream",
          "text": [
            "[ 0.68083695 79.90493119]\n"
          ],
          "name": "stdout"
        }
      ]
    },
    {
      "cell_type": "code",
      "metadata": {
        "id": "mqZV25yx-sxd",
        "colab_type": "code",
        "colab": {
          "base_uri": "https://localhost:8080/",
          "height": 265
        },
        "outputId": "f220b5f9-0a5a-41bd-9cb1-1efb10a84ea0"
      },
      "source": [
        "plt.scatter(X,Y,label='Training Data')\n",
        "plt.plot(test_data_array,hypothesis(test_data_array,final_theta),color='orange',label=\"Prediction\")\n",
        "plt.legend()\n",
        "plt.show()"
      ],
      "execution_count": 45,
      "outputs": [
        {
          "output_type": "display_data",
          "data": {
            "image/png": "[encoded data removed]",
            "text/plain": [
              "<Figure size 432x288 with 1 Axes>"
            ]
          },
          "metadata": {
            "tags": []
          }
        }
      ]
    },
    {
      "cell_type": "code",
      "metadata": {
        "id": "o_JmocP1-3B_",
        "colab_type": "code",
        "colab": {}
      },
      "source": [
        ""
      ],
      "execution_count": 0,
      "outputs": []
    }
  ]
}